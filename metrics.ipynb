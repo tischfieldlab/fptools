{
 "cells": [
  {
   "cell_type": "code",
   "execution_count": 90,
   "metadata": {},
   "outputs": [],
   "source": [
    "%matplotlib inline\n",
    "import glob\n",
    "import FPUtils\n",
    "import numpy as np\n",
    "import matplotlib.pyplot as plt\n",
    "import pandas as pd\n",
    "import seaborn as sns\n",
    "from scipy.stats import mannwhitneyu\n",
    "from scipy.signal import find_peaks, peak_prominences, peak_widths\n",
    "from sklearn.metrics import auc"
   ]
  },
  {
   "cell_type": "code",
   "execution_count": 110,
   "metadata": {},
   "outputs": [],
   "source": [
    "hetTanks = r\"C:\\Users\\User\\Tischfield_Lab\\Fiber_Photo\\Sample_Tank\\Open Field tanks\\Haloperidol tanks\\het/*\"\n",
    "wtTanks = r\"C:\\Users\\User\\Tischfield_Lab\\Fiber_Photo\\Sample_Tank\\Open Field tanks\\Haloperidol tanks\\wt/*\"\n",
    "# testpath = r\"c:\\Users\\aak283\\Fiber_Photo\\Tanks\\RI30 Day 4 tanks\\hets (D4)\\EN183_RI30D4-240719-125435\""
   ]
  },
  {
   "cell_type": "code",
   "execution_count": 111,
   "metadata": {},
   "outputs": [],
   "source": [
    "def create_dict_whole(tanks, tenminbefore):\n",
    "    peak_dff = []\n",
    "    peak_amps = []\n",
    "    peak_prom = []\n",
    "    peak_aucs = []\n",
    "    lastn = []\n",
    "    avglastaucs = []\n",
    "    peak_freq = []\n",
    "    for file in glob.glob(tanks):\n",
    "        avg = []\n",
    "        aucs = []\n",
    "        lastaucs = []\n",
    "        lastdff = []\n",
    "        print(file)\n",
    "        data,dFF,dsFactor,_ = FPUtils.readFile(file)\n",
    "        dFF = dFF[:-int(5*1018)]\n",
    "        peaks = find_peaks(dFF,prominence = 5)\n",
    "        widths = peak_widths(dFF, peaks[0])\n",
    "        for i in peaks[0]:\n",
    "            avg.append(dFF[i])\n",
    "            # if i > (tenminbefore*101.8):\n",
    "            #     lastdff.append(dFF[i])\n",
    "            peak_dff.append(len(avg))\n",
    "        lastn.append(len(lastdff))\n",
    "        for i in range(len(widths[2])):\n",
    "            left = int(widths[2][i])\n",
    "            right = int(widths[3][i])\n",
    "            aucs.append(auc(range(right-left), dFF[left:right])/(right-left))\n",
    "            # if widths[2][i]>(tenminbefore*101.8):\n",
    "            #     left = int(widths[2][i])\n",
    "            #     right = int(widths[3][i])\n",
    "            #     lastaucs.append(auc(range(right-left), dFF[left:right])/(right-left))\n",
    "        peak_aucs.append(np.nanmean(aucs))\n",
    "        peak_amps.append(np.nanmean(avg))\n",
    "        peak_prom.append(np.nanmean(peaks[1]['prominences']))\n",
    "        peak_freq.append(len(peaks[0])/25)\n",
    "        # avglastaucs.append(np.mean(lastaucs))\n",
    "\n",
    "        dictionary ={\"avg number peaks (normalized to n reward)\": peak_dff,\n",
    "                    \"avg peak amplitude\": peak_amps,\n",
    "                    \"avg peak auc\": peak_aucs,\n",
    "                    \"avg peak prominence\": peak_prom,\n",
    "                    \"peak frequency\": peak_freq\n",
    "                    }\n",
    "    return dictionary\n"
   ]
  },
  {
   "cell_type": "code",
   "execution_count": 112,
   "metadata": {},
   "outputs": [
    {
     "name": "stdout",
     "output_type": "stream",
     "text": [
      "C:\\Users\\User\\Tischfield_Lab\\Fiber_Photo\\Sample_Tank\\Open Field tanks\\Haloperidol tanks\\het\\EN173_OFH-240829-135107\n",
      "read from t=0s to t=1798.94s\n",
      "C:\\Users\\User\\Tischfield_Lab\\Fiber_Photo\\Sample_Tank\\Open Field tanks\\Haloperidol tanks\\het\\EN181_OFH-240829-143030\n",
      "read from t=0s to t=1799.06s\n",
      "C:\\Users\\User\\Tischfield_Lab\\Fiber_Photo\\Sample_Tank\\Open Field tanks\\Haloperidol tanks\\het\\EN182_OFH-240829-115021\n",
      "read from t=0s to t=1799.1s\n"
     ]
    },
    {
     "name": "stderr",
     "output_type": "stream",
     "text": [
      "c:\\Users\\User\\Tischfield_Lab\\Fiber_Photo\\FP analysis codes\\FPUtils.py:47: RankWarning: Polyfit may be poorly conditioned\n",
      "  bls = np.polyfit(x, y, 1)\n"
     ]
    },
    {
     "name": "stdout",
     "output_type": "stream",
     "text": [
      "C:\\Users\\User\\Tischfield_Lab\\Fiber_Photo\\Sample_Tank\\Open Field tanks\\Haloperidol tanks\\het\\EN183_OFH-240829-150948\n",
      "read from t=0s to t=1799.1s\n",
      "C:\\Users\\User\\Tischfield_Lab\\Fiber_Photo\\Sample_Tank\\Open Field tanks\\Haloperidol tanks\\het\\EN189_OFH-240829-131105\n",
      "read from t=0s to t=1799.09s\n"
     ]
    }
   ],
   "source": [
    "het_summary = create_dict_whole(hetTanks, 3000)"
   ]
  },
  {
   "cell_type": "code",
   "execution_count": 113,
   "metadata": {},
   "outputs": [
    {
     "name": "stdout",
     "output_type": "stream",
     "text": [
      "C:\\Users\\User\\Tischfield_Lab\\Fiber_Photo\\Sample_Tank\\Open Field tanks\\Haloperidol tanks\\wt\\EN147_OFH-240829-115052\n",
      "read from t=0s to t=1799.09s\n"
     ]
    },
    {
     "name": "stderr",
     "output_type": "stream",
     "text": [
      "c:\\Users\\User\\Tischfield_Lab\\Fiber_Photo\\FP analysis codes\\FPUtils.py:47: RankWarning: Polyfit may be poorly conditioned\n",
      "  bls = np.polyfit(x, y, 1)\n"
     ]
    },
    {
     "name": "stdout",
     "output_type": "stream",
     "text": [
      "C:\\Users\\User\\Tischfield_Lab\\Fiber_Photo\\Sample_Tank\\Open Field tanks\\Haloperidol tanks\\wt\\EN172_OFH-240829-111321\n",
      "read from t=0s to t=1798.95s\n"
     ]
    },
    {
     "name": "stderr",
     "output_type": "stream",
     "text": [
      "c:\\Users\\User\\Tischfield_Lab\\Fiber_Photo\\FP analysis codes\\FPUtils.py:47: RankWarning: Polyfit may be poorly conditioned\n",
      "  bls = np.polyfit(x, y, 1)\n"
     ]
    },
    {
     "name": "stdout",
     "output_type": "stream",
     "text": [
      "C:\\Users\\User\\Tischfield_Lab\\Fiber_Photo\\Sample_Tank\\Open Field tanks\\Haloperidol tanks\\wt\\EN186_OFH-240829-135020\n",
      "read from t=0s to t=1799.0s\n"
     ]
    },
    {
     "name": "stderr",
     "output_type": "stream",
     "text": [
      "c:\\Users\\User\\Tischfield_Lab\\Fiber_Photo\\FP analysis codes\\FPUtils.py:47: RankWarning: Polyfit may be poorly conditioned\n",
      "  bls = np.polyfit(x, y, 1)\n"
     ]
    },
    {
     "name": "stdout",
     "output_type": "stream",
     "text": [
      "C:\\Users\\User\\Tischfield_Lab\\Fiber_Photo\\Sample_Tank\\Open Field tanks\\Haloperidol tanks\\wt\\EN187_OFH-240829-123029\n",
      "read from t=0s to t=1799.1s\n",
      "C:\\Users\\User\\Tischfield_Lab\\Fiber_Photo\\Sample_Tank\\Open Field tanks\\Haloperidol tanks\\wt\\EN188_OFH-240829-131028\n",
      "read from t=0s to t=1799.1s\n"
     ]
    }
   ],
   "source": [
    "wt_summary  = create_dict_whole(wtTanks, 3000)"
   ]
  },
  {
   "cell_type": "code",
   "execution_count": 114,
   "metadata": {},
   "outputs": [],
   "source": [
    "hdf = pd.DataFrame()\n",
    "for i in range(len(het_summary['avg peak auc'])):\n",
    "    # hdf.loc[i, 'last 10 minutes: peak mean'] = het_summary['last 10 minutes: avg number peaks'][i]\n",
    "    # hdf.loc[i, 'last 10 minutes: auc mean'] = het_summary['last 10 minutes: avg peak auc '][i]\n",
    "    hdf.loc[i, 'peaks mean'] = het_summary['avg number peaks (normalized to n reward)'][i]\n",
    "    hdf.loc[i, 'prom mean'] = het_summary['avg peak prominence'][i]\n",
    "    hdf.loc[i, 'amp mean'] = het_summary['avg peak amplitude'][i]\n",
    "    hdf.loc[i, 'auc mean'] = het_summary['avg peak auc'][i]\n",
    "    hdf.loc[i, 'genotype'] = 'het'\n",
    "    hdf.loc[i, 'peak frequency'] = het_summary['peak frequency'][i]\n",
    "    \n",
    "wdf = pd.DataFrame()\n",
    "for i in range(len(wt_summary['avg peak auc'])):\n",
    "    wdf.loc[i, 'peaks mean'] = wt_summary['avg number peaks (normalized to n reward)'][i]\n",
    "    wdf.loc[i, 'prom mean'] = wt_summary['avg peak prominence'][i]\n",
    "    wdf.loc[i, 'amp mean'] = wt_summary['avg peak amplitude'][i]\n",
    "    wdf.loc[i, 'auc mean'] = wt_summary['avg peak auc'][i]\n",
    "    wdf.loc[i, 'genotype'] = 'wt'\n",
    "    wdf.loc[i, 'peak frequency'] = wt_summary['peak frequency'][i]\n",
    "    # wdf.loc[i, 'last 10 minutes: peak mean'] = wt_summary['last 10 minutes: avg number peaks'][i]\n",
    "    # wdf.loc[i, 'last 10 minutes: auc mean'] = wt_summary['last 10 minutes: avg peak auc '][i]\n",
    "df = pd.concat([hdf, wdf], ignore_index=True)"
   ]
  },
  {
   "cell_type": "code",
   "execution_count": 115,
   "metadata": {},
   "outputs": [
    {
     "data": {
      "text/plain": [
       "Text(-1, -1, 'mannwhitney, p = 0.095')"
      ]
     },
     "execution_count": 115,
     "metadata": {},
     "output_type": "execute_result"
    },
    {
     "data": {
      "image/png": "[encoded data removed]",
      "text/plain": [
       "<Figure size 640x480 with 1 Axes>"
      ]
     },
     "metadata": {},
     "output_type": "display_data"
    }
   ],
   "source": [
    "ax = sns.barplot(data = df, x = 'genotype', y = 'auc mean', errorbar='se', capsize=.05)\n",
    "ax.bar_label(ax.containers[0], label_type='center')\n",
    "ax.set_title('RI60 Day8 avg peak auc per animal entire stream; dF/F')\n",
    "ax.text(-1, -1, \n",
    "         f\"mannwhitney, p = {np.round(mannwhitneyu(het_summary['avg peak auc'], wt_summary['avg peak auc'])[1], decimals=3)}\")"
   ]
  },
  {
   "cell_type": "code",
   "execution_count": 122,
   "metadata": {},
   "outputs": [
    {
     "data": {
      "text/plain": [
       "Text(-1, -3, 'mannwhitney, p = 0.834')"
      ]
     },
     "execution_count": 122,
     "metadata": {},
     "output_type": "execute_result"
    },
    {
     "data": {
      "image/png": "[encoded data removed]",
      "text/plain": [
       "<Figure size 640x480 with 1 Axes>"
      ]
     },
     "metadata": {},
     "output_type": "display_data"
    }
   ],
   "source": [
    "ax = sns.barplot(data = df, x = 'genotype', y = 'peak frequency', errorbar='se', capsize=.05)\n",
    "ax.bar_label(ax.containers[0], label_type='center')\n",
    "ax.set_title('Haloperidol Open Field avg peak frequency per animal entire stream; dF/F')\n",
    "ax.text(-1, -3, \n",
    "         f\"mannwhitney, p = {np.round(mannwhitneyu(het_summary['peak frequency'], wt_summary['peak frequency'])[1], decimals=3)}\")"
   ]
  },
  {
   "cell_type": "code",
   "execution_count": 123,
   "metadata": {},
   "outputs": [],
   "source": [
    "hdf['auc mean'].to_clipboard(index=False, header=False)"
   ]
  },
  {
   "cell_type": "code",
   "execution_count": 124,
   "metadata": {},
   "outputs": [],
   "source": [
    "wdf['auc mean'].to_clipboard(index=False, header=False)"
   ]
  },
  {
   "cell_type": "code",
   "execution_count": 126,
   "metadata": {},
   "outputs": [],
   "source": [
    "hdf['peak frequency'].to_clipboard(index=False, header=False)"
   ]
  },
  {
   "cell_type": "code",
   "execution_count": 120,
   "metadata": {},
   "outputs": [],
   "source": [
    "# data, dFF, dsFactor, time = FPUtils.readFile(testpath)\n",
    "# peaks = find_peaks(dFF, prominence=8)\n",
    "# peak_dff = []\n",
    "# for i in peaks[0]:\n",
    "#     peak_dff.append(dFF[i])\n",
    "\n",
    "# fig3 = plt.figure(figsize=(20,12))\n",
    "# ax2 = fig3.add_subplot(311)\n",
    "# ax2.scatter(x= peaks[0]/(101.8)+5, y = peak_dff, s = 10, color = 'red' )\n",
    "# p1, = ax2.plot(time, dFF, linewidth=2, color='green', label='dff')\n",
    "# ax2.legend(handles=[p1], loc='upper right')"
   ]
  },
  {
   "cell_type": "code",
   "execution_count": 121,
   "metadata": {},
   "outputs": [
    {
     "name": "stdout",
     "output_type": "stream",
     "text": [
      "read from t=0s to t=1798.94s\n",
      "read from t=0s to t=1799.06s\n"
     ]
    },
    {
     "ename": "KeyboardInterrupt",
     "evalue": "",
     "output_type": "error",
     "traceback": [
      "\u001b[1;31m---------------------------------------------------------------------------\u001b[0m",
      "\u001b[1;31mKeyboardInterrupt\u001b[0m                         Traceback (most recent call last)",
      "Cell \u001b[1;32mIn[121], line 4\u001b[0m\n\u001b[0;32m      2\u001b[0m \u001b[38;5;28;01mfor\u001b[39;00m file \u001b[38;5;129;01min\u001b[39;00m glob\u001b[38;5;241m.\u001b[39mglob(hetTanks):\n\u001b[0;32m      3\u001b[0m     dfgraphs \u001b[38;5;241m=\u001b[39m []\n\u001b[1;32m----> 4\u001b[0m     data,dFF,dsF, time \u001b[38;5;241m=\u001b[39m \u001b[43mFPUtils\u001b[49m\u001b[38;5;241;43m.\u001b[39;49m\u001b[43mreadFile\u001b[49m\u001b[43m(\u001b[49m\u001b[43mfile\u001b[49m\u001b[43m)\u001b[49m\n\u001b[0;32m      5\u001b[0m     peaks \u001b[38;5;241m=\u001b[39m find_peaks(dFF, prominence\u001b[38;5;241m=\u001b[39m\u001b[38;5;241m8\u001b[39m)\n\u001b[0;32m      6\u001b[0m     \u001b[38;5;28;01mfor\u001b[39;00m i \u001b[38;5;129;01min\u001b[39;00m peaks[\u001b[38;5;241m0\u001b[39m]:\n",
      "File \u001b[1;32mc:\\Users\\User\\Tischfield_Lab\\Fiber_Photo\\FP analysis codes\\FPUtils.py:47\u001b[0m, in \u001b[0;36mreadFile\u001b[1;34m(blockpath)\u001b[0m\n\u001b[0;32m     45\u001b[0m x \u001b[38;5;241m=\u001b[39m np\u001b[38;5;241m.\u001b[39marray(data\u001b[38;5;241m.\u001b[39mstreams[isosbestic]\u001b[38;5;241m.\u001b[39mdata)\n\u001b[0;32m     46\u001b[0m y \u001b[38;5;241m=\u001b[39m np\u001b[38;5;241m.\u001b[39marray(data\u001b[38;5;241m.\u001b[39mstreams[dopa]\u001b[38;5;241m.\u001b[39mdata)\n\u001b[1;32m---> 47\u001b[0m bls \u001b[38;5;241m=\u001b[39m \u001b[43mnp\u001b[49m\u001b[38;5;241;43m.\u001b[39;49m\u001b[43mpolyfit\u001b[49m\u001b[43m(\u001b[49m\u001b[43mx\u001b[49m\u001b[43m,\u001b[49m\u001b[43m \u001b[49m\u001b[43my\u001b[49m\u001b[43m,\u001b[49m\u001b[43m \u001b[49m\u001b[38;5;241;43m1\u001b[39;49m\u001b[43m)\u001b[49m\n\u001b[0;32m     48\u001b[0m Y_fit_all \u001b[38;5;241m=\u001b[39m np\u001b[38;5;241m.\u001b[39mmultiply(bls[\u001b[38;5;241m0\u001b[39m], x) \u001b[38;5;241m+\u001b[39m bls[\u001b[38;5;241m1\u001b[39m]\n\u001b[0;32m     49\u001b[0m Y_dF_all \u001b[38;5;241m=\u001b[39m y \u001b[38;5;241m-\u001b[39m Y_fit_all\n",
      "File \u001b[1;32mc:\\Users\\User\\anaconda3\\envs\\FP\\lib\\site-packages\\numpy\\lib\\polynomial.py:650\u001b[0m, in \u001b[0;36mpolyfit\u001b[1;34m(x, y, deg, rcond, full, w, cov)\u001b[0m\n\u001b[0;32m    647\u001b[0m     rcond \u001b[38;5;241m=\u001b[39m \u001b[38;5;28mlen\u001b[39m(x)\u001b[38;5;241m*\u001b[39mfinfo(x\u001b[38;5;241m.\u001b[39mdtype)\u001b[38;5;241m.\u001b[39meps\n\u001b[0;32m    649\u001b[0m \u001b[38;5;66;03m# set up least squares equation for powers of x\u001b[39;00m\n\u001b[1;32m--> 650\u001b[0m lhs \u001b[38;5;241m=\u001b[39m \u001b[43mvander\u001b[49m\u001b[43m(\u001b[49m\u001b[43mx\u001b[49m\u001b[43m,\u001b[49m\u001b[43m \u001b[49m\u001b[43morder\u001b[49m\u001b[43m)\u001b[49m\n\u001b[0;32m    651\u001b[0m rhs \u001b[38;5;241m=\u001b[39m y\n\u001b[0;32m    653\u001b[0m \u001b[38;5;66;03m# apply weighting\u001b[39;00m\n",
      "File \u001b[1;32mc:\\Users\\User\\anaconda3\\envs\\FP\\lib\\site-packages\\numpy\\lib\\twodim_base.py:620\u001b[0m, in \u001b[0;36mvander\u001b[1;34m(x, N, increasing)\u001b[0m\n\u001b[0;32m    618\u001b[0m \u001b[38;5;28;01mif\u001b[39;00m N \u001b[38;5;241m>\u001b[39m \u001b[38;5;241m1\u001b[39m:\n\u001b[0;32m    619\u001b[0m     tmp[:, \u001b[38;5;241m1\u001b[39m:] \u001b[38;5;241m=\u001b[39m x[:, \u001b[38;5;28;01mNone\u001b[39;00m]\n\u001b[1;32m--> 620\u001b[0m     \u001b[43mmultiply\u001b[49m\u001b[38;5;241;43m.\u001b[39;49m\u001b[43maccumulate\u001b[49m\u001b[43m(\u001b[49m\u001b[43mtmp\u001b[49m\u001b[43m[\u001b[49m\u001b[43m:\u001b[49m\u001b[43m,\u001b[49m\u001b[43m \u001b[49m\u001b[38;5;241;43m1\u001b[39;49m\u001b[43m:\u001b[49m\u001b[43m]\u001b[49m\u001b[43m,\u001b[49m\u001b[43m \u001b[49m\u001b[43mout\u001b[49m\u001b[38;5;241;43m=\u001b[39;49m\u001b[43mtmp\u001b[49m\u001b[43m[\u001b[49m\u001b[43m:\u001b[49m\u001b[43m,\u001b[49m\u001b[43m \u001b[49m\u001b[38;5;241;43m1\u001b[39;49m\u001b[43m:\u001b[49m\u001b[43m]\u001b[49m\u001b[43m,\u001b[49m\u001b[43m \u001b[49m\u001b[43maxis\u001b[49m\u001b[38;5;241;43m=\u001b[39;49m\u001b[38;5;241;43m1\u001b[39;49m\u001b[43m)\u001b[49m\n\u001b[0;32m    622\u001b[0m \u001b[38;5;28;01mreturn\u001b[39;00m v\n",
      "\u001b[1;31mKeyboardInterrupt\u001b[0m: "
     ]
    }
   ],
   "source": [
    "hetgraphs = []\n",
    "for file in glob.glob(hetTanks):\n",
    "    dfgraphs = []\n",
    "    data,dFF,dsF, time = FPUtils.readFile(file)\n",
    "    peaks = find_peaks(dFF, prominence=8)\n",
    "    for i in peaks[0]:\n",
    "        t = 2*101.8\n",
    "        if (i-t > 0) and (i+t < len(dFF)):\n",
    "            dfgraphs.append(dFF[int(i-t): int(i+t)])\n",
    "    hetgraphs.append(np.mean(dfgraphs, axis=0))"
   ]
  },
  {
   "cell_type": "code",
   "execution_count": 103,
   "metadata": {},
   "outputs": [
    {
     "name": "stdout",
     "output_type": "stream",
     "text": [
      "read from t=0s to t=1799.1s\n"
     ]
    },
    {
     "name": "stderr",
     "output_type": "stream",
     "text": [
      "c:\\Users\\User\\Tischfield_Lab\\Fiber_Photo\\FP analysis codes\\FPUtils.py:47: RankWarning: Polyfit may be poorly conditioned\n",
      "  bls = np.polyfit(x, y, 1)\n"
     ]
    },
    {
     "name": "stdout",
     "output_type": "stream",
     "text": [
      "read from t=0s to t=1799.1s\n",
      "read from t=0s to t=1799.1s\n"
     ]
    },
    {
     "name": "stderr",
     "output_type": "stream",
     "text": [
      "c:\\Users\\User\\Tischfield_Lab\\Fiber_Photo\\FP analysis codes\\FPUtils.py:47: RankWarning: Polyfit may be poorly conditioned\n",
      "  bls = np.polyfit(x, y, 1)\n"
     ]
    },
    {
     "name": "stdout",
     "output_type": "stream",
     "text": [
      "read from t=0s to t=1799.11s\n",
      "read from t=0s to t=1799.09s\n"
     ]
    },
    {
     "name": "stderr",
     "output_type": "stream",
     "text": [
      "c:\\Users\\User\\Tischfield_Lab\\Fiber_Photo\\FP analysis codes\\FPUtils.py:47: RankWarning: Polyfit may be poorly conditioned\n",
      "  bls = np.polyfit(x, y, 1)\n"
     ]
    },
    {
     "name": "stdout",
     "output_type": "stream",
     "text": [
      "read from t=0s to t=1799.09s\n"
     ]
    },
    {
     "name": "stderr",
     "output_type": "stream",
     "text": [
      "c:\\Users\\User\\Tischfield_Lab\\Fiber_Photo\\FP analysis codes\\FPUtils.py:47: RankWarning: Polyfit may be poorly conditioned\n",
      "  bls = np.polyfit(x, y, 1)\n"
     ]
    }
   ],
   "source": [
    "wtgraphs = []\n",
    "for file in glob.glob(wtTanks):\n",
    "    dfgraphs = []\n",
    "    data,dFF,dsF, time = FPUtils.readFile(file)\n",
    "    peaks = find_peaks(dFF, prominence=8)\n",
    "    for i in peaks[0]:\n",
    "        t = 2*101.8\n",
    "        if (i-t > 0) and (i+t < len(dFF)):\n",
    "            dfgraphs.append(dFF[int(i-t): int(i+t)])\n",
    "    wtgraphs.append(np.mean(dfgraphs, axis=0))"
   ]
  },
  {
   "cell_type": "code",
   "execution_count": 104,
   "metadata": {},
   "outputs": [
    {
     "data": {
      "text/plain": [
       "182493"
      ]
     },
     "execution_count": 104,
     "metadata": {},
     "output_type": "execute_result"
    }
   ],
   "source": [
    "len(time)"
   ]
  },
  {
   "cell_type": "code",
   "execution_count": 105,
   "metadata": {},
   "outputs": [
    {
     "ename": "ValueError",
     "evalue": "setting an array element with a sequence. The requested array has an inhomogeneous shape after 1 dimensions. The detected shape was (4,) + inhomogeneous part.",
     "output_type": "error",
     "traceback": [
      "\u001b[1;31m---------------------------------------------------------------------------\u001b[0m",
      "\u001b[1;31mValueError\u001b[0m                                Traceback (most recent call last)",
      "Cell \u001b[1;32mIn[105], line 2\u001b[0m\n\u001b[0;32m      1\u001b[0m time \u001b[38;5;241m=\u001b[39m np\u001b[38;5;241m.\u001b[39marange(\u001b[38;5;241m-\u001b[39m\u001b[38;5;241m2\u001b[39m,\u001b[38;5;241m2\u001b[39m, \u001b[38;5;241m4\u001b[39m\u001b[38;5;241m/\u001b[39m\u001b[38;5;28mlen\u001b[39m(hetgraphs[\u001b[38;5;241m0\u001b[39m]))\n\u001b[1;32m----> 2\u001b[0m plt\u001b[38;5;241m.\u001b[39mplot(time, \u001b[43mnp\u001b[49m\u001b[38;5;241;43m.\u001b[39;49m\u001b[43mmean\u001b[49m\u001b[43m(\u001b[49m\u001b[43mhetgraphs\u001b[49m\u001b[43m,\u001b[49m\u001b[43m \u001b[49m\u001b[43maxis\u001b[49m\u001b[38;5;241;43m=\u001b[39;49m\u001b[38;5;241;43m0\u001b[39;49m\u001b[43m)\u001b[49m, color \u001b[38;5;241m=\u001b[39m \u001b[38;5;124m'\u001b[39m\u001b[38;5;124mblue\u001b[39m\u001b[38;5;124m'\u001b[39m, label \u001b[38;5;241m=\u001b[39m \u001b[38;5;124m'\u001b[39m\u001b[38;5;124mhet\u001b[39m\u001b[38;5;124m'\u001b[39m)\n\u001b[0;32m      3\u001b[0m plt\u001b[38;5;241m.\u001b[39mplot(time, np\u001b[38;5;241m.\u001b[39mmean(wtgraphs, axis\u001b[38;5;241m=\u001b[39m\u001b[38;5;241m0\u001b[39m), color \u001b[38;5;241m=\u001b[39m \u001b[38;5;124m'\u001b[39m\u001b[38;5;124mred\u001b[39m\u001b[38;5;124m'\u001b[39m, label \u001b[38;5;241m=\u001b[39m \u001b[38;5;124m'\u001b[39m\u001b[38;5;124mwty\u001b[39m\u001b[38;5;124m'\u001b[39m)\n\u001b[0;32m      4\u001b[0m plt\u001b[38;5;241m.\u001b[39mfill_between(time, np\u001b[38;5;241m.\u001b[39mmean(hetgraphs, axis\u001b[38;5;241m=\u001b[39m\u001b[38;5;241m0\u001b[39m)\u001b[38;5;241m+\u001b[39mnp\u001b[38;5;241m.\u001b[39mstd(hetgraphs, axis\u001b[38;5;241m=\u001b[39m\u001b[38;5;241m0\u001b[39m)\n\u001b[0;32m      5\u001b[0m                       ,np\u001b[38;5;241m.\u001b[39mmean(hetgraphs, axis\u001b[38;5;241m=\u001b[39m\u001b[38;5;241m0\u001b[39m)\u001b[38;5;241m-\u001b[39mnp\u001b[38;5;241m.\u001b[39mstd(hetgraphs, axis\u001b[38;5;241m=\u001b[39m\u001b[38;5;241m0\u001b[39m), facecolor\u001b[38;5;241m=\u001b[39m\u001b[38;5;124m'\u001b[39m\u001b[38;5;124mblue\u001b[39m\u001b[38;5;124m'\u001b[39m, alpha\u001b[38;5;241m=\u001b[39m\u001b[38;5;241m0.2\u001b[39m)\n",
      "File \u001b[1;32mc:\\Users\\User\\anaconda3\\envs\\FP\\lib\\site-packages\\numpy\\core\\fromnumeric.py:3504\u001b[0m, in \u001b[0;36mmean\u001b[1;34m(a, axis, dtype, out, keepdims, where)\u001b[0m\n\u001b[0;32m   3501\u001b[0m     \u001b[38;5;28;01melse\u001b[39;00m:\n\u001b[0;32m   3502\u001b[0m         \u001b[38;5;28;01mreturn\u001b[39;00m mean(axis\u001b[38;5;241m=\u001b[39maxis, dtype\u001b[38;5;241m=\u001b[39mdtype, out\u001b[38;5;241m=\u001b[39mout, \u001b[38;5;241m*\u001b[39m\u001b[38;5;241m*\u001b[39mkwargs)\n\u001b[1;32m-> 3504\u001b[0m \u001b[38;5;28;01mreturn\u001b[39;00m _methods\u001b[38;5;241m.\u001b[39m_mean(a, axis\u001b[38;5;241m=\u001b[39maxis, dtype\u001b[38;5;241m=\u001b[39mdtype,\n\u001b[0;32m   3505\u001b[0m                       out\u001b[38;5;241m=\u001b[39mout, \u001b[38;5;241m*\u001b[39m\u001b[38;5;241m*\u001b[39mkwargs)\n",
      "File \u001b[1;32mc:\\Users\\User\\anaconda3\\envs\\FP\\lib\\site-packages\\numpy\\core\\_methods.py:102\u001b[0m, in \u001b[0;36m_mean\u001b[1;34m(a, axis, dtype, out, keepdims, where)\u001b[0m\n\u001b[0;32m    101\u001b[0m \u001b[38;5;28;01mdef\u001b[39;00m \u001b[38;5;21m_mean\u001b[39m(a, axis\u001b[38;5;241m=\u001b[39m\u001b[38;5;28;01mNone\u001b[39;00m, dtype\u001b[38;5;241m=\u001b[39m\u001b[38;5;28;01mNone\u001b[39;00m, out\u001b[38;5;241m=\u001b[39m\u001b[38;5;28;01mNone\u001b[39;00m, keepdims\u001b[38;5;241m=\u001b[39m\u001b[38;5;28;01mFalse\u001b[39;00m, \u001b[38;5;241m*\u001b[39m, where\u001b[38;5;241m=\u001b[39m\u001b[38;5;28;01mTrue\u001b[39;00m):\n\u001b[1;32m--> 102\u001b[0m     arr \u001b[38;5;241m=\u001b[39m \u001b[43masanyarray\u001b[49m\u001b[43m(\u001b[49m\u001b[43ma\u001b[49m\u001b[43m)\u001b[49m\n\u001b[0;32m    104\u001b[0m     is_float16_result \u001b[38;5;241m=\u001b[39m \u001b[38;5;28;01mFalse\u001b[39;00m\n\u001b[0;32m    106\u001b[0m     rcount \u001b[38;5;241m=\u001b[39m _count_reduce_items(arr, axis, keepdims\u001b[38;5;241m=\u001b[39mkeepdims, where\u001b[38;5;241m=\u001b[39mwhere)\n",
      "\u001b[1;31mValueError\u001b[0m: setting an array element with a sequence. The requested array has an inhomogeneous shape after 1 dimensions. The detected shape was (4,) + inhomogeneous part."
     ]
    }
   ],
   "source": [
    "time = np.arange(-2,2, 4/len(hetgraphs[0]))\n",
    "plt.plot(time, np.mean(hetgraphs, axis=0), color = 'blue', label = 'het')\n",
    "plt.plot(time, np.mean(wtgraphs, axis=0), color = 'red', label = 'wty')\n",
    "plt.fill_between(time, np.mean(hetgraphs, axis=0)+np.std(hetgraphs, axis=0)\n",
    "                      ,np.mean(hetgraphs, axis=0)-np.std(hetgraphs, axis=0), facecolor='blue', alpha=0.2)\n",
    "plt.fill_between(time, np.mean(wtgraphs, axis=0)+np.std(wtgraphs, axis=0)\n",
    "                      ,np.mean(wtgraphs, axis=0)-np.std(wtgraphs, axis=0), facecolor='red', alpha=0.2)\n",
    "plt.ylabel(r'$\\Delta$F/F')\n",
    "plt.xlabel('seconds')\n",
    "plt.title(r'Open Field, average peak waveform, prominence 8 ($\\Delta$F/F)')\n",
    "plt.legend()"
   ]
  },
  {
   "cell_type": "code",
   "execution_count": null,
   "metadata": {},
   "outputs": [],
   "source": []
  }
 ],
 "metadata": {
  "kernelspec": {
   "display_name": "FP",
   "language": "python",
   "name": "python3"
  },
  "language_info": {
   "codemirror_mode": {
    "name": "ipython",
    "version": 3
   },
   "file_extension": ".py",
   "mimetype": "text/x-python",
   "name": "python",
   "nbconvert_exporter": "python",
   "pygments_lexer": "ipython3",
   "version": "3.10.9"
  }
 },
 "nbformat": 4,
 "nbformat_minor": 2
}
